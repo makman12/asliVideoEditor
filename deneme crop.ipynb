{
 "cells": [
  {
   "cell_type": "code",
   "execution_count": 5,
   "id": "67e89655",
   "metadata": {},
   "outputs": [],
   "source": [
    "import moviepy\n",
    "from moviepy.editor import *\n",
    "from moviepy.video.fx.all import crop"
   ]
  },
  {
   "cell_type": "code",
   "execution_count": 11,
   "id": "25377d90",
   "metadata": {},
   "outputs": [],
   "source": [
    "c=VideoFileClip(\"MAH00003.MP4\").subclip(1,3)"
   ]
  },
  {
   "cell_type": "code",
   "execution_count": 6,
   "id": "f3b82696",
   "metadata": {},
   "outputs": [],
   "source": [
    "x1=0.1\n",
    "x2=0.8\n",
    "y1=0.1\n",
    "y2=0.3"
   ]
  },
  {
   "cell_type": "code",
   "execution_count": 8,
   "id": "5bf3b713",
   "metadata": {},
   "outputs": [],
   "source": [
    "w, h = c.size"
   ]
  },
  {
   "cell_type": "code",
   "execution_count": 12,
   "id": "0a8fa165",
   "metadata": {},
   "outputs": [],
   "source": [
    "d=crop(c, x1=x1*w, y1=y1*h, x2=x2*w, y2=y2*h)"
   ]
  },
  {
   "cell_type": "code",
   "execution_count": 13,
   "id": "321e548f",
   "metadata": {
    "collapsed": true
   },
   "outputs": [
    {
     "name": "stderr",
     "output_type": "stream",
     "text": [
      "t:  61%|███████████████▋          | 2609/4308 [00:45<00:18, 90.93it/s, now=None]"
     ]
    },
    {
     "name": "stdout",
     "output_type": "stream",
     "text": [
      "Moviepy - Building video d.mp4.\n",
      "MoviePy - Writing audio in dTEMP_MPY_wvf_snd.mp3\n"
     ]
    },
    {
     "name": "stderr",
     "output_type": "stream",
     "text": [
      "\n",
      "chunk:   0%|                                   | 0/45 [00:00<?, ?it/s, now=None]\u001b[A\n",
      "t:  61%|███████████████▋          | 2609/4308 [00:45<00:18, 90.93it/s, now=None]\u001b[A"
     ]
    },
    {
     "name": "stdout",
     "output_type": "stream",
     "text": [
      "MoviePy - Done.\n",
      "Moviepy - Writing video d.mp4\n",
      "\n"
     ]
    },
    {
     "name": "stderr",
     "output_type": "stream",
     "text": [
      "\n",
      "t:  61%|███████████████▋          | 2609/4308 [00:45<00:18, 90.93it/s, now=None]\u001b[A\n",
      "t:  26%|███████▌                     | 13/50 [00:00<00:00, 122.82it/s, now=None]\u001b[A\n",
      "t:  56%|████████████████▏            | 28/50 [00:00<00:00, 134.11it/s, now=None]\u001b[A\n",
      "t:  84%|████████████████████████▎    | 42/50 [00:00<00:00, 134.58it/s, now=None]\u001b[A\n",
      "t:  61%|███████████████▋          | 2609/4308 [00:46<00:18, 90.93it/s, now=None]\u001b[A"
     ]
    },
    {
     "name": "stdout",
     "output_type": "stream",
     "text": [
      "Moviepy - Done !\n",
      "Moviepy - video ready d.mp4\n"
     ]
    }
   ],
   "source": [
    "d.write_videofile(\"d.mp4\")"
   ]
  },
  {
   "cell_type": "code",
   "execution_count": null,
   "id": "2c399d32",
   "metadata": {},
   "outputs": [],
   "source": [
    "def cropVideoWithPercentage(c,x1,x2,y1,y2):\n",
    "    w, h = c.size\n",
    "    d=crop(c, x1=x1*w, y1=y1*h, x2=x2*w, y2=y2*h)"
   ]
  }
 ],
 "metadata": {
  "kernelspec": {
   "display_name": "Python 3 (ipykernel)",
   "language": "python",
   "name": "python3"
  },
  "language_info": {
   "codemirror_mode": {
    "name": "ipython",
    "version": 3
   },
   "file_extension": ".py",
   "mimetype": "text/x-python",
   "name": "python",
   "nbconvert_exporter": "python",
   "pygments_lexer": "ipython3",
   "version": "3.10.1"
  }
 },
 "nbformat": 4,
 "nbformat_minor": 5
}
